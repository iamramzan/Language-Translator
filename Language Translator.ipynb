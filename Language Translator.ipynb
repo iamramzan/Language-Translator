{
 "cells": [
  {
   "cell_type": "markdown",
   "id": "e3993515-9710-4ac4-89e9-b35ebb81e920",
   "metadata": {
    "id": "rhqRhkElpJ0z"
   },
   "source": [
    "# Language Translator\n",
    "\n",
    "In this Project, I will use Large Language Models for text transformation tasks such as language translation.\n",
    "\n"
   ]
  },
  {
   "cell_type": "markdown",
   "id": "0b3866f6",
   "metadata": {
    "height": 30
   },
   "source": [
    "## Local Setup"
   ]
  },
  {
   "cell_type": "code",
   "execution_count": 8,
   "id": "41df0348",
   "metadata": {
    "height": 132,
    "tags": []
   },
   "outputs": [],
   "source": [
    "import openai\n",
    "import os\n",
    "\n",
    "from dotenv import load_dotenv, find_dotenv\n",
    "_ = load_dotenv(find_dotenv()) # read local .env file\n",
    "\n",
    "openai.api_key  = os.getenv('OPENAI_API_KEY')"
   ]
  },
  {
   "cell_type": "code",
   "execution_count": 9,
   "id": "6a85ee0f",
   "metadata": {
    "height": 149,
    "tags": []
   },
   "outputs": [],
   "source": [
    "def get_completion(prompt, model=\"gpt-3.5-turbo\", temperature=0): \n",
    "    messages = [{\"role\": \"user\", \"content\": prompt}]\n",
    "    response = openai.ChatCompletion.create(\n",
    "        model=model,\n",
    "        messages=messages,\n",
    "        temperature=temperature, \n",
    "    )\n",
    "    return response.choices[0].message[\"content\"]"
   ]
  },
  {
   "cell_type": "markdown",
   "id": "1d8f0bd8-628e-4c36-bcd0-2110162f25fc",
   "metadata": {
    "id": "zdxC4c6pwqA5"
   },
   "source": [
    "## Single Language Translation\n",
    "\n",
    "ChatGPT is trained with sources in many languages. This gives the model the ability to do translation. Here are some examples of how to use this capability."
   ]
  },
  {
   "cell_type": "markdown",
   "id": "d713ef8d",
   "metadata": {
    "height": 30
   },
   "source": [
    "### 1. Urdu Translation"
   ]
  },
  {
   "cell_type": "code",
   "execution_count": 13,
   "id": "9c4df6ff",
   "metadata": {
    "height": 148,
    "tags": []
   },
   "outputs": [
    {
     "name": "stdout",
     "output_type": "stream",
     "text": [
      "مشین لرننگ کیا ہے؟\n",
      "مشین لرننگ ایک اےآئی کا حصہ ہے، جو الگورتھم استعمال کرتا ہے جو ڈیٹا سے سیکھتے ہیں تاکہ پیشگوئیاں کر سکے۔\n"
     ]
    }
   ],
   "source": [
    "prompt = f\"\"\"\n",
    "Translate the following English text to Urdu: \\ \n",
    "```What is Machine Learning?\n",
    "Machine learning is a subset of AI, which uses algorithms that learn from data to make predictions.```\n",
    "\"\"\"\n",
    "response = get_completion(prompt)\n",
    "print(response)"
   ]
  },
  {
   "cell_type": "code",
   "execution_count": 14,
   "id": "7300ed9b",
   "metadata": {
    "height": 132,
    "tags": []
   },
   "outputs": [
    {
     "name": "stdout",
     "output_type": "stream",
     "text": [
      "This is Urdu.\n"
     ]
    }
   ],
   "source": [
    "prompt = f\"\"\"\n",
    "Tell me which language this is: \n",
    "```مشین لرننگ کیا ہے؟\n",
    "مشین لرننگ ایک اےآئی کا حصہ ہے، جو الگورتھم استعمال کرتا ہے جو ڈیٹا سے سیکھتے ہیں تاکہ پیشگوئیاں کر سکے۔```\n",
    "\"\"\"\n",
    "response = get_completion(prompt)\n",
    "print(response)"
   ]
  },
  {
   "cell_type": "markdown",
   "id": "e94981f9",
   "metadata": {
    "height": 30
   },
   "source": [
    "### 2. Turkish Translation"
   ]
  },
  {
   "cell_type": "code",
   "execution_count": 15,
   "id": "1e3efead",
   "metadata": {
    "height": 148
   },
   "outputs": [
    {
     "name": "stdout",
     "output_type": "stream",
     "text": [
      "Makine Öğrenimi nedir?\n",
      "Makine öğrenimi, verilerden öğrenen algoritmalar kullanan yapay zekanın bir alt kümesidir ve tahminler yapmak için kullanılır.\n"
     ]
    }
   ],
   "source": [
    "prompt = f\"\"\"\n",
    "Translate the following English text to Turkish: \\ \n",
    "```What is Machine Learning?\n",
    "Machine learning is a subset of AI, which uses algorithms that learn from data to make predictions.```\n",
    "\"\"\"\n",
    "response = get_completion(prompt)\n",
    "print(response)"
   ]
  },
  {
   "cell_type": "markdown",
   "id": "0b243643",
   "metadata": {
    "height": 30
   },
   "source": [
    "### 3. Chinese Translation"
   ]
  },
  {
   "cell_type": "code",
   "execution_count": 16,
   "id": "c20b502a",
   "metadata": {
    "height": 148
   },
   "outputs": [
    {
     "name": "stdout",
     "output_type": "stream",
     "text": [
      "机器学习是什么？\n",
      "机器学习是人工智能的一个子集，它使用从数据中学习的算法来进行预测。\n"
     ]
    }
   ],
   "source": [
    "prompt = f\"\"\"\n",
    "Translate the following English text to Chinese: \\ \n",
    "```What is Machine Learning?\n",
    "Machine learning is a subset of AI, which uses algorithms that learn from data to make predictions.```\n",
    "\"\"\"\n",
    "response = get_completion(prompt)\n",
    "print(response)"
   ]
  },
  {
   "cell_type": "markdown",
   "id": "ab757610",
   "metadata": {
    "height": 30
   },
   "source": [
    "### 4. Russian Translation"
   ]
  },
  {
   "cell_type": "code",
   "execution_count": 17,
   "id": "35eef2ae",
   "metadata": {
    "height": 148
   },
   "outputs": [
    {
     "name": "stdout",
     "output_type": "stream",
     "text": [
      "Что такое машинное обучение?\n",
      "Машинное обучение является подмножеством искусственного интеллекта, которое использует алгоритмы, обучающиеся на данных, для предсказаний.\n"
     ]
    }
   ],
   "source": [
    "prompt = f\"\"\"\n",
    "Translate the following English text to Russian: \\ \n",
    "```What is Machine Learning?\n",
    "Machine learning is a subset of AI, which uses algorithms that learn from data to make predictions.```\n",
    "\"\"\"\n",
    "response = get_completion(prompt)\n",
    "print(response)"
   ]
  },
  {
   "cell_type": "markdown",
   "id": "f77088fd",
   "metadata": {
    "height": 30
   },
   "source": [
    "### 5. Arabic Translation"
   ]
  },
  {
   "cell_type": "code",
   "execution_count": 18,
   "id": "354ae99f",
   "metadata": {
    "height": 148
   },
   "outputs": [
    {
     "name": "stdout",
     "output_type": "stream",
     "text": [
      "ما هو تعلم الآلة؟\n",
      "تعتبر تعلم الآلة جزءًا من الذكاء الاصطناعي، حيث يستخدم خوارزميات تتعلم من البيانات لتقديم توقعات.\n"
     ]
    }
   ],
   "source": [
    "prompt = f\"\"\"\n",
    "Translate the following English text to Arabic: \\ \n",
    "```What is Machine Learning?\n",
    "Machine learning is a subset of AI, which uses algorithms that learn from data to make predictions.```\n",
    "\"\"\"\n",
    "response = get_completion(prompt)\n",
    "print(response)"
   ]
  },
  {
   "cell_type": "markdown",
   "id": "cb25a311",
   "metadata": {
    "height": 30
   },
   "source": [
    "### 6. Persian Translation"
   ]
  },
  {
   "cell_type": "code",
   "execution_count": 19,
   "id": "77e7adea",
   "metadata": {
    "height": 148
   },
   "outputs": [
    {
     "name": "stdout",
     "output_type": "stream",
     "text": [
      "ماشین لرنینگ چیست؟\n",
      "ماشین لرنینگ یک زیرمجموعه از هوش مصنوعی است که از الگوریتم‌هایی استفاده می‌کند که از داده‌ها یاد می‌گیرند تا پیش‌بینی‌ها انجام دهند.\n"
     ]
    }
   ],
   "source": [
    "prompt = f\"\"\"\n",
    "Translate the following English text to Persian: \\ \n",
    "```What is Machine Learning?\n",
    "Machine learning is a subset of AI, which uses algorithms that learn from data to make predictions.```\n",
    "\"\"\"\n",
    "response = get_completion(prompt)\n",
    "print(response)"
   ]
  },
  {
   "cell_type": "markdown",
   "id": "034cd478",
   "metadata": {
    "height": 30
   },
   "source": [
    "### 7. Hindi Translation"
   ]
  },
  {
   "cell_type": "code",
   "execution_count": 20,
   "id": "6c9b6c68",
   "metadata": {
    "height": 148
   },
   "outputs": [
    {
     "name": "stdout",
     "output_type": "stream",
     "text": [
      "मशीन लर्निंग क्या है?\n",
      "मशीन लर्निंग एक आर्टिफिशियल इंटेलिजेंस का उपसेट है, जो डेटा से सीखने वाले एल्गोरिदम का उपयोग करता है ताकि पूर्वानुमान बनाया जा सके।\n"
     ]
    }
   ],
   "source": [
    "prompt = f\"\"\"\n",
    "Translate the following English text to Hindi: \\ \n",
    "```What is Machine Learning?\n",
    "Machine learning is a subset of AI, which uses algorithms that learn from data to make predictions.```\n",
    "\"\"\"\n",
    "response = get_completion(prompt)\n",
    "print(response)"
   ]
  },
  {
   "cell_type": "markdown",
   "id": "55c72a27",
   "metadata": {
    "height": 30
   },
   "source": [
    "### Multiple Languages Translation"
   ]
  },
  {
   "cell_type": "code",
   "execution_count": 21,
   "id": "791e789b",
   "metadata": {
    "height": 148,
    "tags": []
   },
   "outputs": [
    {
     "name": "stdout",
     "output_type": "stream",
     "text": [
      "Urdu: مشین لرننگ کیا ہے؟\n",
      "مشین لرننگ ایک اےآئی کا حصہ ہے، جو الگورتھم کا استعمال کرتا ہے جو ڈیٹا سے سیکھتا ہے تاکہ پیشگوئیاں کر سکے۔\n",
      "\n",
      "Turkish: Makine Öğrenimi nedir?\n",
      "Makine öğrenimi, verilerden öğrenen algoritmalar kullanan yapay zekanın bir alt kümesidir ve tahminler yapmak için kullanılır.\n",
      "\n",
      "Chinese: 机器学习是什么？\n",
      "机器学习是人工智能的一个子集，使用从数据中学习的算法进行预测。\n",
      "\n",
      "Russian: Что такое машинное обучение?\n",
      "Машинное обучение - это подмножество искусственного интеллекта, которое использует алгоритмы, обучающиеся на данных, для прогнозирования.\n",
      "\n",
      "Arabic: ما هو تعلم الآلة؟\n",
      "تعلم الآلة هو جزء من الذكاء الاصطناعي، الذي يستخدم خوارزميات تتعلم من البيانات لتقديم التنبؤات.\n",
      "\n",
      "Persian: یادگیری ماشین چیست؟\n",
      "یادگیری ماشین یک زیرمجموعه از هوش مصنوعی است که از الگوریتم‌هایی استفاده می‌کند که از داده‌ها یاد می‌گیرند تا پیش‌بینی‌ها انجام دهند.\n",
      "\n",
      "Hindi: मशीन लर्निंग क्या है?\n",
      "मशीन लर्निंग एक एआई का एक उपसेट है, जो डेटा से सीखने वाले एल्गोरिदम का उपयोग करता है ताकि भविष्यवाणियाँ कर सके।\n"
     ]
    }
   ],
   "source": [
    "prompt = f\"\"\"\n",
    "Translate the following  text to Urdu and Turkish and Chinese and Russian and Arabic and Persian and Hindi: \\\n",
    "```What is Machine Learning?\n",
    "Machine learning is a subset of AI, which uses algorithms that learn from data to make predictions.```\n",
    "\"\"\"\n",
    "response = get_completion(prompt)\n",
    "print(response)"
   ]
  },
  {
   "cell_type": "markdown",
   "id": "8edb56d2-a32a-470f-9f40-4fc5b1ea0849",
   "metadata": {
    "id": "-hN2bczQrRC1"
   },
   "source": [
    "## Universal Translator\n",
    "Imagine you are in charge of IT at a large multinational e-commerce company. Users are messaging you with IT issues in all their native languages. Your staff is from all over the world and speaks only their native languages. You need a universal translator!"
   ]
  },
  {
   "cell_type": "code",
   "execution_count": 22,
   "id": "68a40bf0",
   "metadata": {
    "height": 148,
    "tags": []
   },
   "outputs": [],
   "source": [
    "user_messages = [\n",
    "  \"La performance du système est plus lente que d'habitude.\",  # System performance is slower than normal         \n",
    "  \"Mi monitor tiene píxeles que no se iluminan.\",              # My monitor has pixels that are not lighting\n",
    "  \"Il mio mouse non funziona\",                                 # My mouse is not working\n",
    "  \"Mój klawisz Ctrl jest zepsuty\",                             # My keyboard has a broken control key\n",
    "  \"我的屏幕在闪烁\"                                               # My screen is flashing\n",
    "] "
   ]
  },
  {
   "cell_type": "code",
   "execution_count": 23,
   "id": "552d0db9",
   "metadata": {
    "height": 200,
    "tags": []
   },
   "outputs": [
    {
     "name": "stdout",
     "output_type": "stream",
     "text": [
      "Original message (This is French.): La performance du système est plus lente que d'habitude.\n",
      "English: \"The system performance is slower than usual.\"\n",
      "\n",
      "Korean: \"시스템 성능이 평소보다 느립니다.\" \n",
      "\n",
      "Original message (This is Spanish.): Mi monitor tiene píxeles que no se iluminan.\n",
      "English: \"My monitor has pixels that do not light up.\"\n",
      "Korean: \"내 모니터에는 불이 켜지지 않는 픽셀이 있습니다.\" \n",
      "\n",
      "Original message (Italian): Il mio mouse non funziona\n",
      "English: My mouse is not working\n",
      "Korean: 내 마우스가 작동하지 않습니다 \n",
      "\n",
      "Original message (This is Polish.): Mój klawisz Ctrl jest zepsuty\n",
      "English: My Ctrl key is broken\n",
      "Korean: 제 Ctrl 키가 고장 났어요 \n",
      "\n",
      "Original message (This is Chinese.): 我的屏幕在闪烁\n",
      "English: My screen is flickering\n",
      "Korean: 내 화면이 깜박거립니다 \n",
      "\n"
     ]
    }
   ],
   "source": [
    "for issue in user_messages:\n",
    "    prompt = f\"Tell me what language this is: ```{issue}```\"\n",
    "    lang = get_completion(prompt)\n",
    "    print(f\"Original message ({lang}): {issue}\")\n",
    "\n",
    "    prompt = f\"\"\"\n",
    "    Translate the following  text to English \\\n",
    "    and Korean: ```{issue}```\n",
    "    \"\"\"\n",
    "    response = get_completion(prompt)\n",
    "    print(response, \"\\n\")"
   ]
  }
 ],
 "metadata": {
  "kernelspec": {
   "display_name": "Python 3 (ipykernel)",
   "language": "python",
   "name": "python3"
  },
  "language_info": {
   "codemirror_mode": {
    "name": "ipython",
    "version": 3
   },
   "file_extension": ".py",
   "mimetype": "text/x-python",
   "name": "python",
   "nbconvert_exporter": "python",
   "pygments_lexer": "ipython3",
   "version": "3.10.13"
  }
 },
 "nbformat": 4,
 "nbformat_minor": 5
}
